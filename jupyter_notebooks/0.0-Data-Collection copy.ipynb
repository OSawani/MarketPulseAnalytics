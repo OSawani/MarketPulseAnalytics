{
 "cells": [
  {
   "cell_type": "markdown",
   "metadata": {},
   "source": [
    "# **Data Collection Notebook**"
   ]
  },
  {
   "cell_type": "markdown",
   "metadata": {},
   "source": [
    "**Objective:**\n",
    "Collect and preprocess raw data related to insider transactions and stock prices.\n",
    "Fetch data from Kaggle and save it as raw data, inspect and save it.\n",
    "\n",
    "**Inputs:**\n",
    "- Raw TSV files: `NONDERIV_TRANS.tsv`, `SUBMISSION.tsv`, `REPORTING_OWNER.tsv`\n",
    "- Stock price data files in `../data/raw/stock_prices/` directory\n",
    "- Kaggle JSON file - the authentication token.\n",
    "\n",
    "**Outputs:**\n",
    "- Interim CSV files:\n",
    "  - `interim_insider_transactions.csv`\n",
    "  - `interim_stock_prices.csv`\n",
    "  - `interim_merged_insider_transactions_stock_prices.csv`"
   ]
  },
  {
   "cell_type": "markdown",
   "metadata": {},
   "source": [
    "---"
   ]
  },
  {
   "cell_type": "markdown",
   "metadata": {},
   "source": [
    "\n",
    "# Step 1: Imports & Kaggle Endpoint "
   ]
  },
  {
   "cell_type": "code",
   "execution_count": null,
   "metadata": {},
   "outputs": [],
   "source": [
    "import sys\n",
    "import json\n",
    "from pathlib import Path\n",
    "import os\n",
    "import pandas as pd\n",
    "import numpy as np\n",
    "import re\n",
    "from dotenv import load_dotenv\n",
    "import zipfile\n",
    "import shutil\n",
    "import subprocess"
   ]
  },
  {
   "cell_type": "markdown",
   "metadata": {},
   "source": [
    "# Change working directory"
   ]
  },
  {
   "cell_type": "markdown",
   "metadata": {},
   "source": [
    "* Access current directory and change to parent directory"
   ]
  },
  {
   "cell_type": "code",
   "execution_count": null,
   "metadata": {},
   "outputs": [],
   "source": [
    "current_dir = os.getcwd()\n",
    "current_dir\n",
    "\n",
    "os.chdir(os.path.dirname(current_dir))\n",
    "print(\"You set a new current directory\")"
   ]
  },
  {
   "cell_type": "markdown",
   "metadata": {},
   "source": [
    "Confirm Current Directory"
   ]
  },
  {
   "cell_type": "code",
   "execution_count": null,
   "metadata": {},
   "outputs": [],
   "source": [
    "current_dir = os.getcwd()\n",
    "current_dir"
   ]
  },
  {
   "cell_type": "markdown",
   "metadata": {},
   "source": [
    "---"
   ]
  },
  {
   "cell_type": "markdown",
   "metadata": {},
   "source": [
    "# Fetch data from Kaggle"
   ]
  },
  {
   "cell_type": "markdown",
   "metadata": {},
   "source": [
    "### Setup Credintials"
   ]
  },
  {
   "cell_type": "code",
   "execution_count": null,
   "metadata": {},
   "outputs": [],
   "source": [
    "# Define the path to the .env file in the current directory (MarketPulseAnalytics)\n",
    "env_path = os.path.join(os.getcwd(), '.env')\n",
    "\n",
    "# Load environment variables from the .env file if it exists\n",
    "if os.path.exists(env_path):\n",
    "    load_dotenv(env_path)\n",
    "    print(\".env file loaded from:\", env_path)\n",
    "else:\n",
    "    print(\"No .env file found in the current directory. Ensure environment variables are set in the hosting environment.\")\n",
    "\n",
    "# Access the environment variables\n",
    "kaggle_username = os.getenv('KAGGLE_USERNAME')\n",
    "kaggle_key = os.getenv('KAGGLE_KEY')\n",
    "\n",
    "# Verify environment variables are set\n",
    "if not kaggle_username or not kaggle_key:\n",
    "    print(\"Warning: KAGGLE_USERNAME and/or KAGGLE_KEY environment variables are not set. Make sure they are configured in the production environment.\")\n",
    "else:\n",
    "    print(\"Environment variables loaded successfully.\")\n"
   ]
  },
  {
   "cell_type": "markdown",
   "metadata": {},
   "source": [
    "Set the download paths"
   ]
  },
  {
   "cell_type": "code",
   "execution_count": null,
   "metadata": {},
   "outputs": [],
   "source": [
    "# Define paths\n",
    "insider_transactions_download_path = 'data/downloaded/zip_insider_transactions/'\n",
    "insider_transactions_filename = 'zip_insider_transactions.zip'\n",
    "\n",
    "insider_transactions_unzip_path = 'data/raw/insider_transactions'"
   ]
  },
  {
   "cell_type": "markdown",
   "metadata": {},
   "source": [
    "Define the Kaggle datasets"
   ]
  },
  {
   "cell_type": "code",
   "execution_count": null,
   "metadata": {},
   "outputs": [],
   "source": [
    "# specify the dataset name\n",
    "stock_prices_dataset = \"borismarjanovic/price-volume-data-for-all-us-stocks-etfs\"\n",
    "insider_transactions_dataset = \"osawani/sec-insider-transactions\""
   ]
  },
  {
   "cell_type": "markdown",
   "metadata": {},
   "source": [
    "Download the dataset"
   ]
  },
  {
   "cell_type": "code",
   "execution_count": null,
   "metadata": {},
   "outputs": [],
   "source": [
    "# Function to download the dataset using Kaggle CLI\n",
    "def download_dataset(dataset_name, download_path):\n",
    "    # Create the Kaggle CLI command as a string\n",
    "    command = f\"kaggle datasets download -d {dataset_name} -p {download_path}\"\n",
    "    \n",
    "    # Print the command for debugging purposes\n",
    "    print(f\"Running command: {command}\")\n",
    "    \n",
    "    # Use os.system to run the command (works in a regular Python script)\n",
    "    os.system(command)\n",
    "    \n",
    "    # Notify the user the download is complete\n",
    "    print(f\"Dataset {dataset_name} downloaded successfully to {download_path}\")"
   ]
  },
  {
   "cell_type": "code",
   "execution_count": null,
   "metadata": {},
   "outputs": [],
   "source": [
    "# 1. Check and download the Stock Prices dataset if the file doesn't exist\n",
    "download_dataset(insider_transactions_dataset, insider_transactions_download_path)"
   ]
  }
 ],
 "metadata": {
  "accelerator": "GPU",
  "colab": {
   "name": "Data Practitioner Jupyter Notebook.ipynb",
   "provenance": [],
   "toc_visible": true
  },
  "kernelspec": {
   "display_name": "myenv",
   "language": "python",
   "name": "python3"
  },
  "language_info": {
   "codemirror_mode": {
    "name": "ipython",
    "version": 3
   },
   "file_extension": ".py",
   "mimetype": "text/x-python",
   "name": "python",
   "nbconvert_exporter": "python",
   "pygments_lexer": "ipython3",
   "version": "3.12.2"
  },
  "orig_nbformat": 2
 },
 "nbformat": 4,
 "nbformat_minor": 2
}
