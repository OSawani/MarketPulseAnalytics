{
 "cells": [
  {
   "cell_type": "markdown",
   "metadata": {
    "id": "0aStgWSO0E0E"
   },
   "source": [
    "# **(Kaggle Data Collection)**"
   ]
  },
  {
   "cell_type": "markdown",
   "metadata": {
    "id": "1eLEkw5O0ECa"
   },
   "source": [
    "## Objectives\n",
    "\n",
    "* Fetch data from Kaggle and save it as raw data.\n",
    "* Fetch data from the SEC website and save it as raw data.\n",
    "* Inspect the data and save it under data/raw/.\n",
    "\n",
    "\n",
    "## Inputs\n",
    "\n",
    "* Kaggle JSON file (kaggle.json): The authentication token for accessing Kaggle datasets.\n",
    "* SEC Insider Transactions Data Sets: Downloaded either manually or via script.\n",
    "\n",
    "## Outputs\n",
    "\n",
    "* Datasets saved in data/raw/:\n",
    "    * Kaggle Datasets:\n",
    "        * financial_indicators/ containing 2014_Financial_Data.csv to 2018_Financial_Data.csv.\n",
    "        * stock_prices/ containing the Huge Stock Market Dataset files.\n",
    "    * SEC Insider Transactions Data Sets:\n",
    "        * TSV files saved in insider_transactions/."
   ]
  },
  {
   "cell_type": "markdown",
   "metadata": {
    "id": "9uWZXH9LwoQg"
   },
   "source": [
    "---"
   ]
  },
  {
   "cell_type": "markdown",
   "metadata": {},
   "source": [
    "## Install Required Python Packages\n",
    "\n",
    "First, install all required packages. You can install packages directly in the notebook using the %pip command."
   ]
  },
  {
   "cell_type": "code",
   "execution_count": null,
   "metadata": {},
   "outputs": [],
   "source": [
    "%pip install kaggle==1.5.12\n",
    "%pip install pandas\n",
    "%pip install requests\n",
    "%pip install beautifulsoup4"
   ]
  },
  {
   "cell_type": "markdown",
   "metadata": {},
   "source": [
    "## "
   ]
  },
  {
   "cell_type": "markdown",
   "metadata": {},
   "source": []
  }
 ],
 "metadata": {
  "accelerator": "GPU",
  "colab": {
   "name": "Data Practitioner Jupyter Notebook.ipynb",
   "provenance": [],
   "toc_visible": true
  },
  "kernelspec": {
   "display_name": "myenv",
   "language": "python",
   "name": "python3"
  },
  "language_info": {
   "codemirror_mode": {
    "name": "ipython",
    "version": 3
   },
   "file_extension": ".py",
   "mimetype": "text/x-python",
   "name": "python",
   "nbconvert_exporter": "python",
   "pygments_lexer": "ipython3",
   "version": "3.12.2"
  },
  "orig_nbformat": 2
 },
 "nbformat": 4,
 "nbformat_minor": 2
}
